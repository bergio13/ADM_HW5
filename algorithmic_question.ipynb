{
 "cells": [
  {
   "cell_type": "markdown",
   "id": "9e34e0fb-68de-440d-9c3c-1823ae5dcf3a",
   "metadata": {},
   "source": [
    "# HW5 - Algorithmic Question"
   ]
  },
  {
   "cell_type": "markdown",
   "id": "81ae43cc-46f6-4baa-8c2c-4f3203e5cce8",
   "metadata": {},
   "source": [
    "## Part A\n",
    "### 1. Implement an algorithm to solve the described mentioned problem.\n"
   ]
  },
  {
   "cell_type": "code",
   "execution_count": 11,
   "id": "f4a10398-07f6-42f5-9518-8251db5931b4",
   "metadata": {},
   "outputs": [
    {
     "name": "stdin",
     "output_type": "stream",
     "text": [
      "input N, M, S : 14 10 1\n",
      "input set of skills :  SWM VOL ATH VOL VOL BSK HCK BSK SWM BSK\n",
      "input athlete number :  1\n",
      "input the proeficiency for athlete 1 :  BSK 98\n",
      "input athlete number :  2\n",
      "input the proeficiency for athlete 2 :  ATH 14\n",
      "input athlete number :  3\n",
      "input the proeficiency for athlete 3 :  HCK 82\n",
      "input athlete number :  4\n",
      "input the proeficiency for athlete 4 :  HCK 9\n",
      "input athlete number :  5\n",
      "input the proeficiency for athlete 5 :  FTB 90\n",
      "input athlete number :  6\n",
      "input the proeficiency for athlete 6 :  ATH 52\n",
      "input athlete number :  7\n",
      "input the proeficiency for athlete 7 :  HCK 95\n",
      "input athlete number :  8\n",
      "input the proeficiency for athlete 8 :  TEN 85\n",
      "input athlete number :  9\n",
      "input the proeficiency for athlete 9 :  RGB 46\n",
      "input athlete number :  10\n",
      "input the proeficiency for athlete 10 :  SWM 16\n",
      "input athlete number :  11\n",
      "input the proeficiency for athlete 11 :  VOL 32\n",
      "input athlete number :  12\n",
      "input the proeficiency for athlete 12 :  SOC 41\n",
      "input athlete number :  13\n",
      "input the proeficiency for athlete 13 :  SWM 59\n",
      "input athlete number :  14\n",
      "input the proeficiency for athlete 14 :  SWM 34\n"
     ]
    },
    {
     "name": "stdout",
     "output_type": "stream",
     "text": [
      "370\n"
     ]
    }
   ],
   "source": [
    "# inputs for N, M, S\n",
    "inp = input(\"input N, M, S :\") #14 10 1\n",
    "inp = inp.split()\n",
    "N, M, S = int(inp[0]), int(inp[1]), int(inp[2])\n",
    "\n",
    "# input for set of skills which then splites and stores inside a list\n",
    "set_of_skills = input(\"input set of skills : \") #SWM VOL ATH VOL VOL BSK HCK BSK SWM BSK\n",
    "set_of_skills = set_of_skills.split()\n",
    "\n",
    "# a dictionary for storing the set of skills as a key, then storing the athletes proficiency \n",
    "my_dict = {}\n",
    "for key in set_of_skills:\n",
    "    my_dict[key] = []\n",
    "\n",
    "#input for athletes proficiency and storing the values of athletes\n",
    "for i in range(N):\n",
    "    athlete_num = int(input(\"input athlete number : \"))\n",
    "    for j in range(S):\n",
    "        cmd = input(\"input the proeficiency for athlete \"+str(i+1)+ \" : \").split()\n",
    "        if cmd[0] in set_of_skills :\n",
    "            my_dict[cmd[0]].append(int(cmd[1]))\n",
    "#proeficiency = \"1 BSK 98 2 ATH 14 3 HCK 82 4 HCK 9 5 FTB 90 6 ATH 52 7 HCK 95 8 TEN 85 9 RGB 46 10 SWM 16 11 VOL 32 12 SOC 41 13 SWM 59 14 SWM 34\"\n",
    "\n",
    "#finding the result\n",
    "res = 0\n",
    "for x in set_of_skills : \n",
    "    if my_dict[x] != [] :\n",
    "        res += max(my_dict[x])\n",
    "        my_dict[x].remove(max(my_dict[x]))\n",
    "print(res)"
   ]
  },
  {
   "cell_type": "markdown",
   "id": "ca344aac-c847-4dbd-b627-2fd3f38f586f",
   "metadata": {},
   "source": [
    "### 2. What is the time complexity (the Big O notation) of your solution? Please provide a detailed explanation of how you calculated the time complexity."
   ]
  },
  {
   "cell_type": "markdown",
   "id": "f59cef6e-2d89-48ed-b96d-8e71397724d3",
   "metadata": {},
   "source": [
    "#### Two main factors in my codes time complexity is this : </br> 1. This part has a time complexity of O(N * S). It is a nested loops where the outer loop runs N times (number of athletes), and the inner loop runs S times (number of skills)."
   ]
  },
  {
   "cell_type": "code",
   "execution_count": 12,
   "id": "939edc32-9721-4510-ace2-1c9b2b42b4ba",
   "metadata": {},
   "outputs": [],
   "source": [
    "#for i in range(N):\n",
    "#    athlete_num = int(input(\"input athlete number : \"))\n",
    "#    for j in range(S):\n",
    "#        cmd = input(\"input the proeficiency for athlete \"+str(i+1)+ \" : \").split()\n",
    "#        if cmd[0] in set_of_skills :\n",
    "#            my_dict[cmd[0]].append(int(cmd[1]))"
   ]
  },
  {
   "cell_type": "markdown",
   "id": "892169ad-14a9-42df-b1ae-516698c9cb98",
   "metadata": {},
   "source": [
    "#### 2. And This part also has a time complexity of O(S). It iterates through the set of skills and performs some constant operation."
   ]
  },
  {
   "cell_type": "code",
   "execution_count": 13,
   "id": "7570ede5-61b8-43e7-a734-ca1b74c8476e",
   "metadata": {},
   "outputs": [],
   "source": [
    "#res = 0\n",
    "#for x in set_of_skills : \n",
    "#    if my_dict[x] != [] :\n",
    "#        res += max(my_dict[x])\n",
    "#        my_dict[x].remove(max(my_dict[x]))"
   ]
  },
  {
   "cell_type": "markdown",
   "id": "f833db17-9d49-420a-a3fe-8f2e4b6a841f",
   "metadata": {},
   "source": [
    "#### So It seems to have time complexity of O(N * S) + O(S) ."
   ]
  },
  {
   "cell_type": "markdown",
   "id": "315afef3-c0d0-4306-b993-d520db71cc5c",
   "metadata": {},
   "source": [
    "### 3. Ask ChatGPT or any other LLM chatbot tool to check your code's time complexity (the Big O notation). Compare your answer to theirs. If the two differ, which one is right? (why?) \n",
    "#### I asked the chat-gpt to calculate the time complexity of this code and it showed that my time complexity is wrong because in this section of the coed :"
   ]
  },
  {
   "cell_type": "code",
   "execution_count": 14,
   "id": "45139b83-423c-4280-ad4c-39b5fa1715f2",
   "metadata": {},
   "outputs": [],
   "source": [
    "#res = 0\n",
    "#for x in set_of_skills : \n",
    "#    if my_dict[x] != [] :\n",
    "#        res += max(my_dict[x])\n",
    "#        my_dict[x].remove(max(my_dict[x]))"
   ]
  },
  {
   "cell_type": "markdown",
   "id": "7fb32cf8-1ebc-4f89-92a6-3229f209ee41",
   "metadata": {},
   "source": [
    "#### The time complexity of O(S * M). Because it iterate through the set of skills, and for each skill, It performs operations that take time proportional to the number of athletes (M) with that skill.\n",
    "#### So the overall time complexity of the provided code is O(N * S) + O(S * M)"
   ]
  },
  {
   "cell_type": "markdown",
   "id": "a4253d6f-43ca-49b4-8be8-7e61cc04ab1a",
   "metadata": {},
   "source": [
    "### 4. If you algorithm has exponential time complexity, can you provide a polynomial-time version?\n",
    "#### The provided algorithm does not have an exponential time complexity. Instead, it has a time complexity that is polynomial in terms of the input sizes N, M, and S."
   ]
  },
  {
   "cell_type": "markdown",
   "id": "b4235d11-a4ea-491c-a6d4-3445ccb00857",
   "metadata": {},
   "source": [
    "### 5. If S==1 , how does the time complexity of an optimal algorithm to solve this problem change?\n",
    "#### If S == 1, meaning there is only one skill, the time complexity of an optimal algorithm to solve this problem can be simplified. Let's analyze how the change in S affects the time complexity.</br> Given that S = 1, we can make the following observations:</br></br> 1. The proficiency input loop simplifies significantly, as it only iterates N times for the athletes. The inner loop becomes unnecessary since there is only one skill. Therefore, the time complexity of this part becomes O(N).</br></br>2. The result calculation loop also simplifies since there is only one skill. The loop runs once for each skill, and the maximum proficiency is calculated. The time complexity of this part becomes O(M), where M is the maximum number of athletes with that one skill.</br></br>Considering these observations, the overall time complexity for an optimal algorithm when S = 1 becomes:</br> O(N) + O(M)"
   ]
  },
  {
   "cell_type": "markdown",
   "id": "b4949ba2-7907-42f4-be3a-a93316cfa455",
   "metadata": {},
   "source": [
    "## Part B"
   ]
  },
  {
   "cell_type": "markdown",
   "id": "948a160d-e884-44ba-8db5-2b333daa996b",
   "metadata": {},
   "source": [
    "### 1. Prove or disprove that the problem is NP-complete."
   ]
  },
  {
   "cell_type": "markdown",
   "id": "d73532dd-e8db-404d-b250-f38bd1c83ce6",
   "metadata": {},
   "source": [
    "To figure out if our problem is a real brain teaser (NP-complete), we often try to relate it to a tough nut to crack, like the set covering problem, a well-known NP-hard problem.\n",
    "\n",
    "picture a set of skills S = [4, 5, 6] and four team members, X = [M, N, O, P]:\n",
    "\n",
    "- M has skills (4, 5) and teams up with others like [(N, 2), (O, 3), (P, 1)].\n",
    "- N has skills (5) and teams up with others like [(M, 2), (O, 1), (P, 4)].\n",
    "- O has skills (6) and teams up with others like [(M, 3), (N, 1), (P, 2)].\n",
    "- P has skills (4, 6) and teams up with others like [(M, 1), (N, 4), (O, 2)].\n",
    "\n",
    "The challenge is to map these skills to subsets and find the smallest subset covering all projects. It's like connecting the dots, where skills become subsets and teamwork efforts turn into costs or relationships in the set covering problem.\n",
    "\n",
    "By framing the problem like this, the goal becomes finding the tiniest subsets covering all projects while keeping the teamwork costs low.\n",
    "\n",
    "Imagine we find a solution like X' = [M, O], covering all projects with the right skills and a calculated \"link weight\" of 5. That's doable in a reasonable amount of time. Picking a group of teammates that nails all projects while minimizing the effort mirrors solving the set covering problem, and that's something we can pull off in a jiffy.\n",
    "\n",
    "If there's a solution in the set covering world, it means we cracked the original problem too. If a bunch of subsets in the set covering problem blankets all projects, the corresponding team subset should cover all the skills with the least effort. Easy to check, and if we manage to prove this whole process, our problem is officially a brainiac, NP-hard. And since we can double-check the solution pretty quickly (thanks to being in NP), we can confidently say, \"Yep, it's NP-complete.\""
   ]
  },
  {
   "cell_type": "markdown",
   "id": "42c73024-674d-42d0-9a34-a2380e17296d",
   "metadata": {},
   "source": [
    "### 2. Write a heuristic in order to approximate the best solution for this problem."
   ]
  },
  {
   "cell_type": "markdown",
   "id": "f56e59f5-1ad1-4075-a53b-0c615f00337c",
   "metadata": {},
   "source": [
    "This is the heuristic as the best solution for this problem:\r\n",
    "\r\n",
    "\r\n",
    "1. **Initialize an Empty Team:**\r\n",
    "   Start with an empty team, denoted as X', where X' is a subset of X.\r\n",
    "\r\n",
    "2. **Skill Coverage Iteration:**\r\n",
    "   Iterate until the team X' covers all required skills from T.\r\n",
    "\r\n",
    "3. **Identify and Add Top Contributor:**\r\n",
    "   Identify the individual capable of contributing the most uncovered skills and add them to the team (denoted as x).\r\n",
    "\r\n",
    "4. **Streamline Future Iterations:**\r\n",
    "   Exclude the added individual (x) from the candidate pool to streamline subsequent iterations.\r\n",
    "\r\n",
    "5. **Construct Collaboration Graph:**\r\n",
    "   Form a graph (G) representing team members as nodes and showcasing collaborative efforts between pairs.\r\n",
    "\r\n",
    "6. **Optimize Collaboration Effort:**\r\n",
    "   Identify the minimum spanning tree within the graph, representing the configuration that minimizes overall collaborative effort.\r\n",
    "\r\n",
    "7. **Finalize Team Composition:**\r\n",
    "   The individuals corresponding to the nodes in the minimum spanning tree constitute the final, optimized team. Conclude the process, presenting this as the ultimate outcome.e ultimate result."
   ]
  },
  {
   "cell_type": "markdown",
   "id": "d9da80bb-b6af-4745-b7bb-1581e0a0b9ca",
   "metadata": {},
   "source": [
    "### 3.What is the time complexity of your solution ?"
   ]
  },
  {
   "cell_type": "markdown",
   "id": "af9d49bb-8fad-42a4-8b2c-9246082c6546",
   "metadata": {},
   "source": [
    "For finding the time complexity, we have to check the complexity step by step:\r\n",
    "\r\n",
    "1. **Initialization and Skill Coverage Iteration:**\r\n",
    "   - Starting with an empty team and making sure all necessary skills are covered takes time proportional to the number of skills we need to cover (let's call it |T|).\r\n",
    "\r\n",
    "2. **Identify and Add Top Contributor:**\r\n",
    "   - Picking the best individual who contributes the most skills takes time proportional to the number of initial individuals (let's call it |X|).\r\n",
    "\r\n",
    "3. **Streamline Future Iterations:**\r\n",
    "   - Removing the chosen individual from consideration is pretty quick, often just a constant time operation.\r\n",
    "\r\n",
    "4. **Construct Collaboration Graph:**\r\n",
    "   - Building the collaboration graph involves looking at each team member and figuring out how well they work together. If we have N team members, this takes time proportional to N^2.\r\n",
    "\r\n",
    "5. **Optimize Collaboration Effort:**\r\n",
    "   - Finding the best way for the team to work together efficiently involves more complex algorithms. Using typical methods like Prim's or Kruskal's, the time it takes can be proportional to the number of edges (E) and nodes (V), often written as O(E log V).\r\n",
    "\r\n",
    "6. **Finalize Team Composition:**\r\n",
    "   - Wrapping things up by picking the individuals from the minimum spanning tree is generally quick, taking time proportional to the number of team members (N).\r\n",
    "\r\n",
    "In summary, if we put it all together, the overall time complexity is influenced most by the collaboration graph creation and optimization steps, and it can be described as O(N^2) + O(E log V). Keep in mind, these are rough estimates, and actual performance might depend on specific details of how things are implemented.of how things are implemented.ics of the input data."
   ]
  },
  {
   "cell_type": "code",
   "execution_count": null,
   "id": "3c408106-417b-4ab3-ac47-4e8f21c60adb",
   "metadata": {},
   "outputs": [],
   "source": []
  }
 ],
 "metadata": {
  "kernelspec": {
   "display_name": "Python 3 (ipykernel)",
   "language": "python",
   "name": "python3"
  },
  "language_info": {
   "codemirror_mode": {
    "name": "ipython",
    "version": 3
   },
   "file_extension": ".py",
   "mimetype": "text/x-python",
   "name": "python",
   "nbconvert_exporter": "python",
   "pygments_lexer": "ipython3",
   "version": "3.11.4"
  }
 },
 "nbformat": 4,
 "nbformat_minor": 5
}
